{
 "cells": [
  {
   "cell_type": "markdown",
   "metadata": {},
   "source": [
    "# WeatherPy\n",
    "----\n",
    "\n",
    "#### Note\n",
    "* Instructions have been included for each segment. You do not have to follow them exactly, but they are included to help you think through the steps."
   ]
  },
  {
   "cell_type": "code",
   "execution_count": 1,
   "metadata": {
    "scrolled": true
   },
   "outputs": [],
   "source": [
    "# Dependencies and Setup\n",
    "import matplotlib.pyplot as plt\n",
    "import pandas as pd\n",
    "import numpy as np\n",
    "import requests\n",
    "import time\n",
    "from scipy.stats import linregress\n",
    "\n",
    "# Import API key\n",
    "from api_keys import weather_api_key\n",
    "\n",
    "# Incorporated citipy to determine city based on latitude and longitude\n",
    "from citipy import citipy\n",
    "\n",
    "# Output File (CSV)\n",
    "output_data_file = \"output_data/cities.csv\"\n",
    "\n",
    "# Range of latitudes and longitudes\n",
    "lat_range = (-90, 90)\n",
    "lng_range = (-180, 180)"
   ]
  },
  {
   "cell_type": "markdown",
   "metadata": {},
   "source": [
    "## Generate Cities List"
   ]
  },
  {
   "cell_type": "code",
   "execution_count": 2,
   "metadata": {},
   "outputs": [
    {
     "data": {
      "text/plain": [
       "631"
      ]
     },
     "execution_count": 2,
     "metadata": {},
     "output_type": "execute_result"
    }
   ],
   "source": [
    "# List for holding lat_lngs and cities\n",
    "lat_lngs = []\n",
    "cities = []\n",
    "\n",
    "# Create a set of random lat and lng combinations\n",
    "lats = np.random.uniform(lat_range[0], lat_range[1], size=1500)\n",
    "lngs = np.random.uniform(lng_range[0], lng_range[1], size=1500)\n",
    "lat_lngs = zip(lats, lngs)\n",
    "\n",
    "# Identify nearest city for each lat, lng combination\n",
    "for lat_lng in lat_lngs:\n",
    "    city = citipy.nearest_city(lat_lng[0], lat_lng[1]).city_name\n",
    "    \n",
    "    # If the city is unique, then add it to a our cities list\n",
    "    if city not in cities:\n",
    "        cities.append(city)\n",
    "\n",
    "# Print the city count to confirm sufficient count\n",
    "len(cities)"
   ]
  },
  {
   "cell_type": "code",
   "execution_count": 7,
   "metadata": {},
   "outputs": [
    {
     "data": {
      "text/plain": [
       "['kihei',\n",
       " 'tuktoyaktuk',\n",
       " 'arraial do cabo',\n",
       " 'shimoda',\n",
       " 'ushuaia',\n",
       " 'albany',\n",
       " 'cape town',\n",
       " 'pevek',\n",
       " 'port alfred',\n",
       " 'kamina']"
      ]
     },
     "execution_count": 7,
     "metadata": {},
     "output_type": "execute_result"
    }
   ],
   "source": [
    "#debugging only\n",
    "cities = cities[0:10]\n",
    "cities"
   ]
  },
  {
   "cell_type": "markdown",
   "metadata": {},
   "source": [
    "### Perform API Calls\n",
    "* Perform a weather check on each city using a series of successive API calls.\n",
    "* Include a print log of each city as it'sbeing processed (with the city number and city name).\n"
   ]
  },
  {
   "cell_type": "code",
   "execution_count": 8,
   "metadata": {
    "scrolled": true
   },
   "outputs": [],
   "source": [
    "#create query url to scan API\n",
    "base_url = \"http://api.openweathermap.org/data/2.5/weather?\"\n",
    "units = \"imperial\"\n",
    "\n",
    "\n",
    "query_url = f\"{base_url}&appid={weather_api_key}&units={units}&q=\""
   ]
  },
  {
   "cell_type": "code",
   "execution_count": 4,
   "metadata": {},
   "outputs": [],
   "source": [
    "#list for analysis parameters\n",
    "city_name = []\n",
    "city_lat = []\n",
    "city_lng = []\n",
    "city_country =[]\n",
    "city_date =[]\n",
    "city_temp = []\n",
    "city_humidity = []\n",
    "city_cloud_cover = []\n",
    "city_wind_speed = []"
   ]
  },
  {
   "cell_type": "code",
   "execution_count": 22,
   "metadata": {},
   "outputs": [
    {
     "name": "stdout",
     "output_type": "stream",
     "text": [
      "Processing city number 1\n",
      "{'coord': {'lon': -156.4656, 'lat': 20.785}, 'weather': [{'id': 801, 'main': 'Clouds', 'description': 'few clouds', 'icon': '02d'}], 'base': 'stations', 'main': {'temp': 71.91, 'feels_like': 64.65, 'temp_min': 69.01, 'temp_max': 78.8, 'pressure': 1016, 'humidity': 57}, 'visibility': 10000, 'wind': {'speed': 16.11, 'deg': 40, 'gust': 23.02}, 'clouds': {'all': 20}, 'dt': 1613101589, 'sys': {'type': 1, 'id': 7879, 'country': 'US', 'sunrise': 1613062676, 'sunset': 1613103747}, 'timezone': -36000, 'id': 5849297, 'name': 'Kīhei', 'cod': 200}\n",
      "Processing city number 2\n",
      "{'coord': {'lon': -133.0374, 'lat': 69.4541}, 'weather': [{'id': 803, 'main': 'Clouds', 'description': 'broken clouds', 'icon': '04n'}], 'base': 'stations', 'main': {'temp': -7.6, 'feels_like': -18.85, 'temp_min': -7.6, 'temp_max': -7.6, 'pressure': 1031, 'humidity': 77}, 'visibility': 10000, 'wind': {'speed': 8.05, 'deg': 150}, 'clouds': {'all': 75}, 'dt': 1613101590, 'sys': {'type': 1, 'id': 942, 'country': 'CA', 'sunrise': 1613065086, 'sunset': 1613090091}, 'timezone': -25200, 'id': 6170031, 'name': 'Tuktoyaktuk', 'cod': 200}\n",
      "Processing city number 3\n",
      "{'coord': {'lon': -42.0278, 'lat': -22.9661}, 'weather': [{'id': 501, 'main': 'Rain', 'description': 'moderate rain', 'icon': '10n'}], 'base': 'stations', 'main': {'temp': 76.19, 'feels_like': 77.47, 'temp_min': 76.19, 'temp_max': 76.19, 'pressure': 1014, 'humidity': 89, 'sea_level': 1014, 'grnd_level': 1012}, 'visibility': 10000, 'wind': {'speed': 13.8, 'deg': 50}, 'rain': {'1h': 1.332}, 'clouds': {'all': 100}, 'dt': 1613101591, 'sys': {'country': 'BR', 'sunrise': 1613118912, 'sunset': 1613165380}, 'timezone': -10800, 'id': 3471451, 'name': 'Arraial do Cabo', 'cod': 200}\n",
      "Processing city number 4\n",
      "{'coord': {'lon': 138.95, 'lat': 34.6667}, 'weather': [{'id': 803, 'main': 'Clouds', 'description': 'broken clouds', 'icon': '04d'}], 'base': 'stations', 'main': {'temp': 50.25, 'feels_like': 41.13, 'temp_min': 46.99, 'temp_max': 53.6, 'pressure': 1026, 'humidity': 62}, 'visibility': 10000, 'wind': {'speed': 11.5, 'deg': 30}, 'clouds': {'all': 75}, 'dt': 1613101592, 'sys': {'type': 1, 'id': 8070, 'country': 'JP', 'sunrise': 1613079197, 'sunset': 1613118226}, 'timezone': 32400, 'id': 1852357, 'name': 'Shimoda', 'cod': 200}\n",
      "Processing city number 5\n",
      "{'coord': {'lon': -68.3, 'lat': -54.8}, 'weather': [{'id': 801, 'main': 'Clouds', 'description': 'few clouds', 'icon': '02n'}], 'base': 'stations', 'main': {'temp': 46.4, 'feels_like': 28.81, 'temp_min': 46.4, 'temp_max': 46.4, 'pressure': 1006, 'humidity': 71}, 'visibility': 10000, 'wind': {'speed': 26.46, 'deg': 230}, 'clouds': {'all': 20}, 'dt': 1613101594, 'sys': {'type': 1, 'id': 8303, 'country': 'AR', 'sunrise': 1613121673, 'sunset': 1613175229}, 'timezone': -10800, 'id': 3833367, 'name': 'Ushuaia', 'cod': 200}\n",
      "Processing city number 6\n",
      "{'coord': {'lon': -73.9662, 'lat': 42.6001}, 'weather': [{'id': 801, 'main': 'Clouds', 'description': 'few clouds', 'icon': '02n'}], 'base': 'stations', 'main': {'temp': 13.06, 'feels_like': 2.84, 'temp_min': 9, 'temp_max': 16, 'pressure': 1027, 'humidity': 53}, 'visibility': 10000, 'wind': {'speed': 6.91, 'deg': 320}, 'clouds': {'all': 20}, 'dt': 1613101315, 'sys': {'type': 1, 'id': 3273, 'country': 'US', 'sunrise': 1613044679, 'sunset': 1613082144}, 'timezone': -18000, 'id': 5106841, 'name': 'Albany', 'cod': 200}\n",
      "Processing city number 7\n",
      "{'coord': {'lon': 18.4232, 'lat': -33.9258}, 'weather': [{'id': 701, 'main': 'Mist', 'description': 'mist', 'icon': '50n'}], 'base': 'stations', 'main': {'temp': 69.89, 'feels_like': 68.81, 'temp_min': 68, 'temp_max': 72, 'pressure': 1007, 'humidity': 94}, 'visibility': 4000, 'wind': {'speed': 13.8, 'deg': 210}, 'clouds': {'all': 75}, 'dt': 1613101031, 'sys': {'type': 1, 'id': 1899, 'country': 'ZA', 'sunrise': 1613103533, 'sunset': 1613151743}, 'timezone': 7200, 'id': 3369157, 'name': 'Cape Town', 'cod': 200}\n",
      "Processing city number 8\n",
      "{'coord': {'lon': 170.3133, 'lat': 69.7008}, 'weather': [{'id': 802, 'main': 'Clouds', 'description': 'scattered clouds', 'icon': '03d'}], 'base': 'stations', 'main': {'temp': -24.03, 'feels_like': -32.44, 'temp_min': -24.03, 'temp_max': -24.03, 'pressure': 1039, 'humidity': 84, 'sea_level': 1039, 'grnd_level': 1032}, 'visibility': 10000, 'wind': {'speed': 2.55, 'deg': 226}, 'clouds': {'all': 48}, 'dt': 1613101105, 'sys': {'country': 'RU', 'sunrise': 1613078780, 'sunset': 1613103589}, 'timezone': 43200, 'id': 2122090, 'name': 'Pevek', 'cod': 200}\n",
      "Processing city number 9\n",
      "{'coord': {'lon': 26.891, 'lat': -33.5906}, 'weather': [{'id': 804, 'main': 'Clouds', 'description': 'overcast clouds', 'icon': '04n'}], 'base': 'stations', 'main': {'temp': 71.01, 'feels_like': 77.97, 'temp_min': 71.01, 'temp_max': 71.01, 'pressure': 1007, 'humidity': 96}, 'visibility': 10000, 'wind': {'speed': 1.01, 'deg': 321, 'gust': 5.01}, 'clouds': {'all': 98}, 'dt': 1613101105, 'sys': {'type': 3, 'id': 2011314, 'country': 'ZA', 'sunrise': 1613101529, 'sunset': 1613149682}, 'timezone': 7200, 'id': 964432, 'name': 'Port Alfred', 'cod': 200}\n",
      "Processing city number 10\n",
      "{'coord': {'lon': 24.9906, 'lat': -8.7386}, 'weather': [{'id': 804, 'main': 'Clouds', 'description': 'overcast clouds', 'icon': '04n'}], 'base': 'stations', 'main': {'temp': 65.44, 'feels_like': 68.23, 'temp_min': 65.44, 'temp_max': 65.44, 'pressure': 1011, 'humidity': 95, 'sea_level': 1011, 'grnd_level': 888}, 'visibility': 10000, 'wind': {'speed': 3.65, 'deg': 306}, 'clouds': {'all': 100}, 'dt': 1613101106, 'sys': {'country': 'CD', 'sunrise': 1613103741, 'sunset': 1613148383}, 'timezone': 7200, 'id': 214614, 'name': 'Kamina', 'cod': 200}\n"
     ]
    }
   ],
   "source": [
    "records = 0\n",
    "records_index = 1\n",
    "\n",
    "#for look to go through each city from the API\n",
    "for city in cities:\n",
    "    city_url = f\"{query_url}{city}\"\n",
    "    records = records + 1\n",
    "    try:\n",
    "        response = requests.get(city_url).json()\n",
    "        time.sleep(1)\n",
    "        print(f\"Processing city number {records}\")\n",
    "        print(response)\n",
    "        city_name.append(city)\n",
    "        city_lat.append(response[\"coord\"][\"lat\"])\n",
    "        city_lng.append(response[\"coord\"][\"lon\"])\n",
    "        city_country.append(response[\"sys\"][\"country\"])\n",
    "        city_date.append(response[\"dt\"])\n",
    "        \n",
    "    except:\n",
    "        print(f\"City not found\")\n",
    "    "
   ]
  },
  {
   "cell_type": "code",
   "execution_count": null,
   "metadata": {},
   "outputs": [],
   "source": []
  },
  {
   "cell_type": "code",
   "execution_count": null,
   "metadata": {},
   "outputs": [],
   "source": []
  },
  {
   "cell_type": "markdown",
   "metadata": {},
   "source": [
    "### Convert Raw Data to DataFrame\n",
    "* Export the city data into a .csv.\n",
    "* Display the DataFrame"
   ]
  },
  {
   "cell_type": "code",
   "execution_count": null,
   "metadata": {},
   "outputs": [],
   "source": []
  },
  {
   "cell_type": "code",
   "execution_count": null,
   "metadata": {},
   "outputs": [],
   "source": []
  },
  {
   "cell_type": "markdown",
   "metadata": {},
   "source": [
    "## Inspect the data and remove the cities where the humidity > 100%.\n",
    "----\n",
    "Skip this step if there are no cities that have humidity > 100%. "
   ]
  },
  {
   "cell_type": "code",
   "execution_count": null,
   "metadata": {},
   "outputs": [],
   "source": []
  },
  {
   "cell_type": "code",
   "execution_count": null,
   "metadata": {},
   "outputs": [],
   "source": [
    "#  Get the indices of cities that have humidity over 100%.\n"
   ]
  },
  {
   "cell_type": "code",
   "execution_count": null,
   "metadata": {},
   "outputs": [],
   "source": [
    "# Make a new DataFrame equal to the city data to drop all humidity outliers by index.\n",
    "# Passing \"inplace=False\" will make a copy of the city_data DataFrame, which we call \"clean_city_data\".\n"
   ]
  },
  {
   "cell_type": "code",
   "execution_count": null,
   "metadata": {},
   "outputs": [],
   "source": [
    "\n"
   ]
  },
  {
   "cell_type": "markdown",
   "metadata": {},
   "source": [
    "## Plotting the Data\n",
    "* Use proper labeling of the plots using plot titles (including date of analysis) and axes labels.\n",
    "* Save the plotted figures as .pngs."
   ]
  },
  {
   "cell_type": "markdown",
   "metadata": {},
   "source": [
    "## Latitude vs. Temperature Plot"
   ]
  },
  {
   "cell_type": "code",
   "execution_count": null,
   "metadata": {
    "scrolled": true
   },
   "outputs": [],
   "source": []
  },
  {
   "cell_type": "markdown",
   "metadata": {},
   "source": [
    "## Latitude vs. Humidity Plot"
   ]
  },
  {
   "cell_type": "code",
   "execution_count": null,
   "metadata": {},
   "outputs": [],
   "source": []
  },
  {
   "cell_type": "markdown",
   "metadata": {},
   "source": [
    "## Latitude vs. Cloudiness Plot"
   ]
  },
  {
   "cell_type": "code",
   "execution_count": null,
   "metadata": {},
   "outputs": [],
   "source": []
  },
  {
   "cell_type": "markdown",
   "metadata": {},
   "source": [
    "## Latitude vs. Wind Speed Plot"
   ]
  },
  {
   "cell_type": "code",
   "execution_count": null,
   "metadata": {},
   "outputs": [],
   "source": []
  },
  {
   "cell_type": "markdown",
   "metadata": {},
   "source": [
    "## Linear Regression"
   ]
  },
  {
   "cell_type": "code",
   "execution_count": null,
   "metadata": {},
   "outputs": [],
   "source": []
  },
  {
   "cell_type": "markdown",
   "metadata": {},
   "source": [
    "####  Northern Hemisphere - Max Temp vs. Latitude Linear Regression"
   ]
  },
  {
   "cell_type": "code",
   "execution_count": null,
   "metadata": {},
   "outputs": [],
   "source": []
  },
  {
   "cell_type": "markdown",
   "metadata": {},
   "source": [
    "####  Southern Hemisphere - Max Temp vs. Latitude Linear Regression"
   ]
  },
  {
   "cell_type": "code",
   "execution_count": null,
   "metadata": {},
   "outputs": [],
   "source": []
  },
  {
   "cell_type": "markdown",
   "metadata": {},
   "source": [
    "####  Northern Hemisphere - Humidity (%) vs. Latitude Linear Regression"
   ]
  },
  {
   "cell_type": "code",
   "execution_count": null,
   "metadata": {},
   "outputs": [],
   "source": []
  },
  {
   "cell_type": "markdown",
   "metadata": {},
   "source": [
    "####  Southern Hemisphere - Humidity (%) vs. Latitude Linear Regression"
   ]
  },
  {
   "cell_type": "code",
   "execution_count": null,
   "metadata": {},
   "outputs": [],
   "source": []
  },
  {
   "cell_type": "markdown",
   "metadata": {},
   "source": [
    "####  Northern Hemisphere - Cloudiness (%) vs. Latitude Linear Regression"
   ]
  },
  {
   "cell_type": "code",
   "execution_count": null,
   "metadata": {},
   "outputs": [],
   "source": []
  },
  {
   "cell_type": "markdown",
   "metadata": {},
   "source": [
    "####  Southern Hemisphere - Cloudiness (%) vs. Latitude Linear Regression"
   ]
  },
  {
   "cell_type": "code",
   "execution_count": null,
   "metadata": {},
   "outputs": [],
   "source": []
  },
  {
   "cell_type": "markdown",
   "metadata": {},
   "source": [
    "####  Northern Hemisphere - Wind Speed (mph) vs. Latitude Linear Regression"
   ]
  },
  {
   "cell_type": "code",
   "execution_count": null,
   "metadata": {},
   "outputs": [],
   "source": []
  },
  {
   "cell_type": "markdown",
   "metadata": {},
   "source": [
    "####  Southern Hemisphere - Wind Speed (mph) vs. Latitude Linear Regression"
   ]
  },
  {
   "cell_type": "code",
   "execution_count": null,
   "metadata": {},
   "outputs": [],
   "source": []
  },
  {
   "cell_type": "code",
   "execution_count": null,
   "metadata": {},
   "outputs": [],
   "source": []
  }
 ],
 "metadata": {
  "anaconda-cloud": {},
  "kernel_info": {
   "name": "python3"
  },
  "kernelspec": {
   "display_name": "Python 3",
   "language": "python",
   "name": "python3"
  },
  "language_info": {
   "codemirror_mode": {
    "name": "ipython",
    "version": 3
   },
   "file_extension": ".py",
   "mimetype": "text/x-python",
   "name": "python",
   "nbconvert_exporter": "python",
   "pygments_lexer": "ipython3",
   "version": "3.6.10"
  },
  "latex_envs": {
   "LaTeX_envs_menu_present": true,
   "autoclose": false,
   "autocomplete": true,
   "bibliofile": "biblio.bib",
   "cite_by": "apalike",
   "current_citInitial": 1,
   "eqLabelWithNumbers": true,
   "eqNumInitial": 1,
   "hotkeys": {
    "equation": "Ctrl-E",
    "itemize": "Ctrl-I"
   },
   "labels_anchors": false,
   "latex_user_defs": false,
   "report_style_numbering": false,
   "user_envs_cfg": false
  },
  "nteract": {
   "version": "0.12.3"
  }
 },
 "nbformat": 4,
 "nbformat_minor": 2
}
