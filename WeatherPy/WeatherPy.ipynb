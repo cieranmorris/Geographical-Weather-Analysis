{
 "cells": [
  {
   "cell_type": "markdown",
   "metadata": {},
   "source": [
    "# WeatherPy\n",
    "----\n",
    "\n",
    "In this analysis, we utilized Python code in conjunction with open access API systems to curate weather and geographic coordinates of 500+ cities located around the globe. By cleaning and analyzing data gathered from OpenWeather API, some conclusions could be made on the basis of city weather in relation to the location of the equator:\n",
    "\n",
    "1. There were distinctive differences in the relationship of maximum ambient temperature and latitude coordinates between the northern and southern hemispheres. The northern hemisphere had a defined negative relationship as latitude increased, with the correlation coefficient equaling -1.42, meaning that as the latitude increased and cities were located further away from the equator, the temperatures dropped substantially. This would make sense as this data was collected in February 2021 and the northern hemisphere is in it's winter solstice during that time. The opposite can be observed with the analysis of temperature and latitude in the southern hemisphere, which had a slightly positive relationship with a positive correlation coefficient of 0.28. As the latitude is further away from the equator maximum temperature is lower, however there is a weaker coefficient for the southern hemisphere in February 2021 as it is currently within it's summer solstice so on average the temperatures are higher.\n",
    "\n",
    "2. For both hemispheres, there seems to be minimal influence or correlations between percent humidity and a city's latitude coordinates. With very low correlation coefficients (less than 0.5) displayed in the linear regression analysis, observing relationships based on temperatures would be more accurate as humidity is dependent on the temperature levels.\n",
    "\n",
    "3. Given that wind speed is affected by changes in air pressure in relation to temperature differences in the atmosphere, it makes sense that the southern hemisphere would have a slightly negative assocation with wind speed and latitude. As cities are located closer to the equator the air temperature is naturally higher, so there is less cool air dropping as warm air rises. The further away a city is from the equator the ambient temperature is generally cooler, so as warm air rises there is a greater change in air flow as cool air descends and increases overall wind speed."
   ]
  },
  {
   "cell_type": "code",
   "execution_count": 1,
   "metadata": {
    "scrolled": true
   },
   "outputs": [
    {
     "ename": "ModuleNotFoundError",
     "evalue": "No module named 'api_keys'",
     "output_type": "error",
     "traceback": [
      "\u001b[0;31m---------------------------------------------------------------------------\u001b[0m",
      "\u001b[0;31mModuleNotFoundError\u001b[0m                       Traceback (most recent call last)",
      "\u001b[0;32m<ipython-input-1-e5c295751d43>\u001b[0m in \u001b[0;36m<module>\u001b[0;34m\u001b[0m\n\u001b[1;32m      9\u001b[0m \u001b[0;34m\u001b[0m\u001b[0m\n\u001b[1;32m     10\u001b[0m \u001b[0;31m# Import API key\u001b[0m\u001b[0;34m\u001b[0m\u001b[0;34m\u001b[0m\u001b[0;34m\u001b[0m\u001b[0m\n\u001b[0;32m---> 11\u001b[0;31m \u001b[0;32mfrom\u001b[0m \u001b[0mapi_keys\u001b[0m \u001b[0;32mimport\u001b[0m \u001b[0mweather_api_key\u001b[0m\u001b[0;34m\u001b[0m\u001b[0;34m\u001b[0m\u001b[0m\n\u001b[0m\u001b[1;32m     12\u001b[0m \u001b[0;34m\u001b[0m\u001b[0m\n\u001b[1;32m     13\u001b[0m \u001b[0;31m# Incorporated citipy to determine city based on latitude and longitude\u001b[0m\u001b[0;34m\u001b[0m\u001b[0;34m\u001b[0m\u001b[0;34m\u001b[0m\u001b[0m\n",
      "\u001b[0;31mModuleNotFoundError\u001b[0m: No module named 'api_keys'"
     ]
    }
   ],
   "source": [
    "# Dependencies and Setup\n",
    "import matplotlib.pyplot as plt\n",
    "import pandas as pd\n",
    "import numpy as np\n",
    "import requests\n",
    "import time\n",
    "import scipy.stats as st\n",
    "from scipy.stats import linregress\n",
    "\n",
    "# Import API key\n",
    "from api_keys import weather_api_key\n",
    "\n",
    "# Incorporated citipy to determine city based on latitude and longitude\n",
    "from citipy import citipy\n",
    "\n",
    "# Output File (CSV)\n",
    "output_data_file = \"output_data/cities.csv\"\n",
    "\n",
    "# Range of latitudes and longitudes\n",
    "lat_range = (-90, 90)\n",
    "lng_range = (-180, 180)"
   ]
  },
  {
   "cell_type": "markdown",
   "metadata": {},
   "source": [
    "## Generate Cities List"
   ]
  },
  {
   "cell_type": "code",
   "execution_count": null,
   "metadata": {},
   "outputs": [],
   "source": [
    "# List for holding lat_lngs and cities\n",
    "lat_lngs = []\n",
    "cities = []\n",
    "\n",
    "# Create a set of random lat and lng combinations\n",
    "lats = np.random.uniform(lat_range[0], lat_range[1], size=1500)\n",
    "lngs = np.random.uniform(lng_range[0], lng_range[1], size=1500)\n",
    "lat_lngs = zip(lats, lngs)\n",
    "\n",
    "# Identify nearest city for each lat, lng combination\n",
    "for lat_lng in lat_lngs:\n",
    "    city = citipy.nearest_city(lat_lng[0], lat_lng[1]).city_name\n",
    "    \n",
    "    # If the city is unique, then add it to a our cities list\n",
    "    if city not in cities:\n",
    "        cities.append(city)\n",
    "\n",
    "# Print the city count to confirm sufficient count\n",
    "len(cities)"
   ]
  },
  {
   "cell_type": "code",
   "execution_count": null,
   "metadata": {},
   "outputs": [],
   "source": [
    "#debugging only\n",
    "# cities = cities[0:10]\n",
    "# cities"
   ]
  },
  {
   "cell_type": "markdown",
   "metadata": {},
   "source": [
    "### Perform API Calls\n",
    "* Perform a weather check on each city using a series of successive API calls.\n",
    "* Include a print log of each city as it'sbeing processed (with the city number and city name).\n"
   ]
  },
  {
   "cell_type": "code",
   "execution_count": null,
   "metadata": {
    "scrolled": true
   },
   "outputs": [],
   "source": [
    "#create query url to scan API\n",
    "base_url = \"http://api.openweathermap.org/data/2.5/weather?\"\n",
    "units = \"imperial\"\n",
    "\n",
    "\n",
    "query_url = f\"{base_url}&appid={weather_api_key}&units={units}&q=\""
   ]
  },
  {
   "cell_type": "code",
   "execution_count": null,
   "metadata": {},
   "outputs": [],
   "source": [
    "#list for analysis parameters\n",
    "city_name = []\n",
    "city_lat = []\n",
    "city_lng = []\n",
    "city_country =[]\n",
    "city_date =[]\n",
    "city_temp = []\n",
    "city_humidity = []\n",
    "city_cloud_cover = []\n",
    "city_wind_speed = []"
   ]
  },
  {
   "cell_type": "code",
   "execution_count": null,
   "metadata": {},
   "outputs": [],
   "source": [
    "print(\"Retrieving Desired City Data\")\n",
    "print(f\"----------------------------------\")\n",
    "records = 0\n",
    "records_set = 1\n",
    "\n",
    "#for loop to go through each city from the API with try/except block so code doesn't break\n",
    "for city in cities:\n",
    "    city_url = f\"{query_url}{city}\"\n",
    "    records = records + 1\n",
    "    try:\n",
    "        response = requests.get(city_url).json()\n",
    "        time.sleep(0.5)\n",
    "        print(f\"Processing city number {records}\")\n",
    "        print(response)\n",
    "        print()\n",
    "        print()\n",
    "        city_name.append(response[\"name\"])\n",
    "        city_lat.append(response[\"coord\"][\"lat\"])\n",
    "        city_lng.append(response[\"coord\"][\"lon\"])\n",
    "        city_country.append(response[\"sys\"][\"country\"])\n",
    "        city_date.append(response[\"dt\"])\n",
    "        city_temp.append(response[\"main\"][\"temp_max\"])\n",
    "        city_humidity.append(response[\"main\"][\"humidity\"])\n",
    "        city_cloud_cover.append(response[\"clouds\"][\"all\"])\n",
    "        city_wind_speed.append(response[\"wind\"][\"speed\"])\n",
    "        \n",
    "        #Conditional for group city outputs \n",
    "        if records > 50:\n",
    "            records_set += 1\n",
    "            records = 1\n",
    "    except:\n",
    "        print(f\"City not found\")\n",
    "\n",
    "print(f\"----------------------------------\")\n",
    "print(f\"End of Data Retrieval Process\")\n",
    "print(f\"----------------------------------\")"
   ]
  },
  {
   "cell_type": "markdown",
   "metadata": {},
   "source": [
    "### Convert Raw Data to DataFrame\n",
    "* Export the city data into a .csv.\n",
    "* Display the DataFrame"
   ]
  },
  {
   "cell_type": "code",
   "execution_count": null,
   "metadata": {},
   "outputs": [],
   "source": [
    "city_weather_df = pd.DataFrame({\"City\":city_name, \"Latitude\":city_lat, \"Longitude\":city_lng, \"Country\":city_country, \"Date\":city_date, \"Max Temperature\":city_temp, \"Humidity\":city_humidity, \"Cloudiness\":city_cloud_cover, \"Wind Speed\":city_wind_speed})\n",
    "city_weather_df.head()"
   ]
  },
  {
   "cell_type": "code",
   "execution_count": null,
   "metadata": {},
   "outputs": [],
   "source": [
    "city_weather_df.to_csv(\"City_Weather.csv\", index=False, header=True)"
   ]
  },
  {
   "cell_type": "markdown",
   "metadata": {},
   "source": [
    "## Inspect the data and remove the cities where the humidity > 100%.\n",
    "----\n",
    "Skip this step if there are no cities that have humidity > 100%. "
   ]
  },
  {
   "cell_type": "code",
   "execution_count": null,
   "metadata": {},
   "outputs": [],
   "source": [
    "city_weather_df[\"Humidity\"].max()"
   ]
  },
  {
   "cell_type": "markdown",
   "metadata": {},
   "source": [
    "## Plotting the Data\n",
    "* Use proper labeling of the plots using plot titles (including date of analysis) and axes labels.\n",
    "* Save the plotted figures as .pngs."
   ]
  },
  {
   "cell_type": "markdown",
   "metadata": {},
   "source": [
    "## Latitude vs. Temperature Plot"
   ]
  },
  {
   "cell_type": "code",
   "execution_count": null,
   "metadata": {
    "scrolled": true
   },
   "outputs": [],
   "source": [
    "#Assign data to new variables\n",
    "latitude = city_weather_df[\"Latitude\"]\n",
    "temperature = city_weather_df[\"Max Temperature\"]\n",
    "\n",
    "#Plot scatter plot with x and y values\n",
    "plt.figure(figsize = (20,10))\n",
    "plt.scatter(latitude, temperature)\n",
    "\n",
    "#create x- and y-axis labels and a chart title\n",
    "plt.title(f\"City Latitude vs. Maximum Temperature (%s)\" % time.strftime(\"%x\"), fontsize = 20)\n",
    "plt.xlabel(\"Latitude\", fontsize = 15)\n",
    "plt.ylabel(\"Maximum Temperature (F)\", fontsize = 15)\n",
    "\n",
    "plt.savefig(\"../Images/Latitude_vs_Max_Temp_Plot.png\")\n",
    "plt.show()"
   ]
  },
  {
   "cell_type": "markdown",
   "metadata": {},
   "source": [
    "This code is visualizing the maximum temperatures (F) of the 600+ cities found in comparison to their latitude coordinates. This scatter plot is showing that as the latitude moves further away from 0 (the equator), the maximum temperature declines for both positive and negative latitudes."
   ]
  },
  {
   "cell_type": "markdown",
   "metadata": {},
   "source": [
    "## Latitude vs. Humidity Plot"
   ]
  },
  {
   "cell_type": "code",
   "execution_count": null,
   "metadata": {},
   "outputs": [],
   "source": [
    "#Assign new variables\n",
    "latitude = city_weather_df[\"Latitude\"]\n",
    "humidity = city_weather_df[\"Humidity\"]\n",
    "\n",
    "#Plot figure\n",
    "plt.figure(figsize = (20, 10))\n",
    "plt.scatter(latitude, humidity)\n",
    "\n",
    "#chart labels and save plot image\n",
    "plt.title(f\"City Latitude vs. Percent Humidity (%s)\" % time.strftime(\"%x\"), fontsize = 20)\n",
    "plt.xlabel(\"Latitude\", fontsize=15)\n",
    "plt.ylabel(\"Humidity (%)\", fontsize = 15)\n",
    "\n",
    "plt.savefig(\"../Images/Latitude_vs_Humidity_Plot.png\")\n",
    "plt.show()"
   ]
  },
  {
   "cell_type": "markdown",
   "metadata": {},
   "source": [
    "This code is visualizing the percent humidity measurements of the 600+ random cities in comparison to their latitude coordinates. This scatter plot is indicating that humidity may not be dependent on latitude, as there are high and low humidity percentages for both city coordinates closer the the equator and those that are located further away. "
   ]
  },
  {
   "cell_type": "markdown",
   "metadata": {},
   "source": [
    "## Latitude vs. Cloudiness Plot"
   ]
  },
  {
   "cell_type": "code",
   "execution_count": null,
   "metadata": {},
   "outputs": [],
   "source": [
    "#define variables\n",
    "latitude = city_weather_df[\"Latitude\"]\n",
    "cloudiness = city_weather_df[\"Cloudiness\"]\n",
    "\n",
    "#plot figure\n",
    "plt.figure(figsize = (20,10))\n",
    "plt.scatter(latitude, cloudiness)\n",
    "\n",
    "#designate labels and save as png file\n",
    "plt.title(f\"City Latitude vs. Percent Cloudiness(%s)\" % time.strftime(\"%x\"), fontsize = 20)\n",
    "plt.xlabel(\"Latitude\", fontsize = 15)\n",
    "plt.ylabel(\"Cloudiness (%)\", fontsize = 15)\n",
    "\n",
    "plt.savefig(\"../Images/Latitude_vs_Cloudiness_Plot.png\")\n",
    "plt.show()"
   ]
  },
  {
   "cell_type": "markdown",
   "metadata": {},
   "source": [
    "This code is visualizing the percent cloudiness of 600+ randomly selected cities around the world in relation to their latitude coordinates. This scatter plot is indicating that there may not be a strong assocation between percent cloud cover and latitude coordinates, as the points are widely distributed across the graph with high and low percentages at coordinates closer and further away from the equator."
   ]
  },
  {
   "cell_type": "markdown",
   "metadata": {},
   "source": [
    "## Latitude vs. Wind Speed Plot"
   ]
  },
  {
   "cell_type": "code",
   "execution_count": null,
   "metadata": {},
   "outputs": [],
   "source": [
    "#define variables\n",
    "latitude = city_weather_df[\"Latitude\"]\n",
    "wind_speed = city_weather_df[\"Wind Speed\"]\n",
    "\n",
    "#plot figure\n",
    "plt.figure(figsize = (20,10))\n",
    "plt.scatter(latitude, wind_speed)\n",
    "\n",
    "#assign labels and save to png file\n",
    "plt.title(f\"City Latitude vs. Wind Speed (%s)\" % time.strftime(\"%x\"), fontsize = 20)\n",
    "plt.xlabel(\"Latitude\", fontsize = 15)\n",
    "plt.ylabel(\"Wind Speed (MPH)\", fontsize = 15)\n",
    "\n",
    "plt.savefig(\"../Images/Latitude_vs_Wind_Speed.png\")\n",
    "plt.show()"
   ]
  },
  {
   "cell_type": "markdown",
   "metadata": {},
   "source": [
    "This code is visualizing the relationship between the latitude coordinates of 600+ randomly selected cities around the globe and their calculated wind speeds, measured in mph. This scatter plot is indicating that generally speaking there are few outliers of high wind speeds across all latitude coordinates, meaning that wind speed may be attributed to different factors beyond latitude."
   ]
  },
  {
   "cell_type": "markdown",
   "metadata": {},
   "source": [
    "## Linear Regression"
   ]
  },
  {
   "cell_type": "markdown",
   "metadata": {},
   "source": [
    "####  Northern Hemisphere - Max Temp vs. Latitude Linear Regression"
   ]
  },
  {
   "cell_type": "code",
   "execution_count": null,
   "metadata": {},
   "outputs": [],
   "source": [
    "#Use .loc() function to filter for city latitudes above the equator\n",
    "n_lats = city_weather_df.loc[(city_weather_df[\"Latitude\"] > 0)]\n",
    "\n",
    "#define variables\n",
    "north_latitude = n_lats[\"Latitude\"]\n",
    "north_max_temp = n_lats[\"Max Temperature\"]\n",
    "\n",
    "#designate linear regression between latitude and max temp\n",
    "temp_lat_slope, temp_lat_int, temp_lat_r, temp_lat_p, temp_lat_std_err = st.linregress(north_latitude, north_max_temp)\n",
    "\n",
    "#create slope intercept equation\n",
    "temp_lat_best_fit = temp_lat_slope * north_latitude + temp_lat_int\n",
    "\n",
    "#convert to y=mx+b format for graph\n",
    "north_temp_equation = \"y=\" + str(round(temp_lat_slope, 2)) + \"x+\" + str(round(temp_lat_int, 2))\n",
    "\n",
    "#plot figure\n",
    "plt.figure(figsize = (20,10))\n",
    "plt.scatter(north_latitude, north_max_temp)\n",
    "\n",
    "#Plot linear regression\n",
    "plt.plot(north_latitude, temp_lat_best_fit, \"--\", color = \"red\")\n",
    "\n",
    "#plot y=mx+b equation on chart\n",
    "plt.annotate(north_temp_equation, (0, 50), fontsize = 15, color=\"red\")\n",
    "\n",
    "#assign labels and save to png file\n",
    "plt.title(f\"Northern Hemisphere Max Temperature vs Latitude (%s)\" % time.strftime(\"%x\"), fontsize = 20)\n",
    "plt.xlabel(\"Latitude\", fontsize = 15)\n",
    "plt.ylabel(\"Maximum Temperatures (F)\", fontsize = 15)\n",
    "\n",
    "#include r-value in output\n",
    "print(f\"r=value: {temp_lat_r}\")\n",
    "\n",
    "plt.savefig(\"../Images/North_Hem_Max_Temp_vs_Lat_Plot.png\")\n",
    "plt.show()\n"
   ]
  },
  {
   "cell_type": "markdown",
   "metadata": {},
   "source": [
    "This code is visualizing the relationship between maximum temperature of 600+ random cities around the globe and their associated latitude coordinates in the northern hemisphere. This scatter plot indicates that as cities are located further away from the equator, their maximum temperature decreases which is expected."
   ]
  },
  {
   "cell_type": "markdown",
   "metadata": {},
   "source": [
    "####  Southern Hemisphere - Max Temp vs. Latitude Linear Regression"
   ]
  },
  {
   "cell_type": "code",
   "execution_count": null,
   "metadata": {},
   "outputs": [],
   "source": [
    "#.loc() for cities below equator and define variables\n",
    "s_lats = city_weather_df.loc[city_weather_df[\"Latitude\"] <0]\n",
    "\n",
    "south_latitude = s_lats[\"Latitude\"]\n",
    "south_max_temp = s_lats[\"Max Temperature\"]\n",
    "\n",
    "#linear regression/slope-intercept \n",
    "s_lat_slope, s_lat_int, s_lat_r, s_lat_p, s_lat_std_err = st.linregress(south_latitude, south_max_temp)\n",
    "\n",
    "s_lat_fit = s_lat_slope * south_latitude + s_lat_int\n",
    "\n",
    "#y=mx+b equation\n",
    "s_lat_equation = \"y=\" + str(round(s_lat_slope, 2)) + \"x+\" + str(round(s_lat_int, 2))\n",
    "\n",
    "#plot figure\n",
    "plt.figure(figsize = (20,10))\n",
    "plt.scatter(south_latitude, south_max_temp)\n",
    "\n",
    "#Plot linear regression\n",
    "plt.plot(south_latitude, s_lat_fit, \"--\", color=\"red\")\n",
    "\n",
    "#Add y=mx+b to chart\n",
    "plt.annotate(s_lat_equation, (-45,80), color=\"red\", fontsize = 15)\n",
    "\n",
    "#Assign labels and save as png file\n",
    "plt.title(f\"Southern Hemisphere Max Temperatures vs Latitude (%s)\" % time.strftime(\"%x\"), fontsize = 20, )\n",
    "plt.xlabel(\"Latitude\", fontsize = 15)\n",
    "plt.ylabel(\"Maximum Temperatures (F)\", fontsize = 15)\n",
    "\n",
    "#designate r-value\n",
    "print(f\"r-value: {s_lat_r}\")\n",
    "      \n",
    "plt.savefig(\"../Images/South_Hem_Max_Temp_vs_Lat_Plot.png\")\n",
    "plt.show()"
   ]
  },
  {
   "cell_type": "markdown",
   "metadata": {},
   "source": [
    "This code is visualizing the relationship between maximum temperature of 600+ random cities around the globe and their associated latitude coordinates in the southern hemisphere. This scatter plot indicates that as cities move closer to the equator, there is a positive relationship between temperature and latitude, i.e. they experience higher temperatures which is expected."
   ]
  },
  {
   "cell_type": "markdown",
   "metadata": {},
   "source": [
    "####  Northern Hemisphere - Humidity (%) vs. Latitude Linear Regression"
   ]
  },
  {
   "cell_type": "code",
   "execution_count": null,
   "metadata": {},
   "outputs": [],
   "source": [
    "#Define variables\n",
    "north_latitude = n_lats[\"Latitude\"]\n",
    "north_humidity = n_lats[\"Humidity\"]\n",
    "\n",
    "#linear regression/slope intercept\n",
    "n_lat_slope, n_lat_int, n_lat_r, n_lat_p, n_lat_std_err = st.linregress(north_latitude, north_humidity)\n",
    "\n",
    "n_lat_fit = n_lat_slope * north_latitude + n_lat_int\n",
    "\n",
    "#y=mx+b equation\n",
    "n_lat_equation = \"y=\" + str(round(n_lat_slope, 2)) + \"x+\" + str(round(n_lat_int, 2))\n",
    "\n",
    "#plot figure\n",
    "plt.figure(figsize = (15,10))\n",
    "plt.scatter(north_latitude, north_humidity)\n",
    "\n",
    "#Plot linear regression\n",
    "plt.plot(north_latitude, n_lat_fit, \"--\", color=\"red\")\n",
    "\n",
    "#Add y=mx+b to chart\n",
    "plt.annotate(n_lat_equation, (0,50), color=\"red\", fontsize = 15)\n",
    "\n",
    "#Assign labels and save as png file\n",
    "plt.title(f\"Northern Hemisphere Humidity vs Latitude (%s)\" % time.strftime(\"%x\"), fontsize = 20)\n",
    "plt.xlabel(\"Latitude\", fontsize = 15)\n",
    "plt.ylabel(\"Humidity (%)\", fontsize = 15)\n",
    "\n",
    "#designate r-value\n",
    "print(f\"r-value: {n_lat_r}\")\n",
    "      \n",
    "plt.savefig(\"../Images/North_Hem_Humidity_vs_Lat_Plot.png\")\n",
    "plt.show()\n"
   ]
  },
  {
   "cell_type": "markdown",
   "metadata": {},
   "source": [
    "This code is visualizing the relationship between percent humidity of 600+ random cities around the globe and their associated latitude coordinates in the northern hemisphere. This scatter plot indicates that there is a minimal positive relationship between humidity levels and latitude coordinates, as some locations closer to the equator have lower humidity percentage and some locations further from the equator experience higher humidity percentages. Given that there is a wide array of city points beyond the best fit line of this linear regression, there may not be any definitive conclusions to be made on the association of latitude and humidity."
   ]
  },
  {
   "cell_type": "markdown",
   "metadata": {},
   "source": [
    "####  Southern Hemisphere - Humidity (%) vs. Latitude Linear Regression"
   ]
  },
  {
   "cell_type": "code",
   "execution_count": null,
   "metadata": {
    "scrolled": true
   },
   "outputs": [],
   "source": [
    "#Define variables\n",
    "south_latitude = s_lats[\"Latitude\"]\n",
    "south_humidity = s_lats[\"Humidity\"]\n",
    "\n",
    "#linear regression/slope-intercept \n",
    "s_lat_slope, s_lat_int, s_lat_r, s_lat_p, s_lat_std_err = st.linregress(south_latitude, south_humidity)\n",
    "\n",
    "s_lat_fit = s_lat_slope * south_latitude + s_lat_int\n",
    "\n",
    "#y=mx+b equation\n",
    "s_lat_equation = \"y=\" + str(round(s_lat_slope, 2)) + \"x+\" + str(round(s_lat_int, 2))\n",
    "\n",
    "#plot figure\n",
    "plt.figure(figsize = (20,10))\n",
    "plt.scatter(south_latitude, south_humidity)\n",
    "\n",
    "#Plot linear regression\n",
    "plt.plot(south_latitude, s_lat_fit, \"--\", color=\"red\")\n",
    "\n",
    "#Add y=mx+b to chart\n",
    "plt.annotate(s_lat_equation, (-45,80), color=\"red\", fontsize = 15)\n",
    "\n",
    "#Assign labels and save as png file\n",
    "plt.title(f\"Southern Hemisphere Humidity vs Latitude (%s)\" % time.strftime(\"%x\"), fontsize = 20, )\n",
    "plt.xlabel(\"Latitude\", fontsize = 15)\n",
    "plt.ylabel(\"Humidity (%)\", fontsize = 15)\n",
    "\n",
    "#designate r-value\n",
    "print(f\"r-value: {s_lat_r}\")\n",
    "      \n",
    "plt.savefig(\"../Images/South_Hem_Humidity_vs_Lat_Plot.png\")\n",
    "plt.show()\n"
   ]
  },
  {
   "cell_type": "markdown",
   "metadata": {},
   "source": [
    "This code is visualizing the relationship between percent humidity of 600+ random cities around the globe and their associated latitude coordinates in the southern hemisphere. This scatter plot indicates that there is a minimal positive relationship between humidity levels and latitude coordinates, as some locations closer to the equator have lower humidity percentage and some locations further from the equator experience higher humidity percentages. Given that there is a wide array of city points beyond the best fit line of this linear regression, there may not be any definitive conclusions to be made on the association of latitude and humidity."
   ]
  },
  {
   "cell_type": "markdown",
   "metadata": {},
   "source": [
    "####  Northern Hemisphere - Cloudiness (%) vs. Latitude Linear Regression"
   ]
  },
  {
   "cell_type": "code",
   "execution_count": null,
   "metadata": {},
   "outputs": [],
   "source": [
    "#Define variables\n",
    "north_latitude = n_lats[\"Latitude\"]\n",
    "north_cloudiness = n_lats[\"Cloudiness\"]\n",
    "\n",
    "#linear regression/slope intercept\n",
    "n_lat_slope, n_lat_int, n_lat_r, n_lat_p, n_lat_std_err = st.linregress(north_latitude, north_cloudiness)\n",
    "\n",
    "n_lat_fit = n_lat_slope * north_latitude + n_lat_int\n",
    "\n",
    "#y=mx+b equation\n",
    "n_lat_equation = \"y=\" + str(round(n_lat_slope, 2)) + \"x+\" + str(round(n_lat_int, 2))\n",
    "\n",
    "#plot figure\n",
    "plt.figure(figsize = (15,10))\n",
    "plt.scatter(north_latitude, north_cloudiness)\n",
    "\n",
    "#Plot linear regression\n",
    "plt.plot(north_latitude, n_lat_fit, \"--\", color=\"red\")\n",
    "\n",
    "#Add y=mx+b to chart\n",
    "plt.annotate(n_lat_equation, (35,60), color=\"red\", fontsize = 15)\n",
    "\n",
    "#Assign labels and save as png file\n",
    "plt.title(f\"Northern Hemisphere Cloudiness vs Latitude (%s)\" % time.strftime(\"%x\"), fontsize = 20)\n",
    "plt.xlabel(\"Latitude\", fontsize = 15)\n",
    "plt.ylabel(\"Cloudiness (%)\", fontsize = 15)\n",
    "\n",
    "#designate r-value\n",
    "print(f\"r-value: {n_lat_r}\")\n",
    "      \n",
    "plt.savefig(\"../Images/North_Hem_Cloud_vs_Lat_Plot.png\")\n",
    "plt.show()\n"
   ]
  },
  {
   "cell_type": "markdown",
   "metadata": {},
   "source": [
    "This code is visualizing the relationship between percent cloudiness of 600+ random cities around the globe and their associated latitude coordinates in the northern hemisphere. This scatter plot indicates that there is a minimal positive relationship between humidity levels and latitude coordinates, as some locations closer to the equator have lower cloudiness percentage and some locations further from the equator experience higher cloudiness percentages. Given that there is a wide array of city points beyond the best fit line of this linear regression, there may not be any definitive conclusions to be made on the association of latitude and cloudiness."
   ]
  },
  {
   "cell_type": "markdown",
   "metadata": {},
   "source": [
    "####  Southern Hemisphere - Cloudiness (%) vs. Latitude Linear Regression"
   ]
  },
  {
   "cell_type": "code",
   "execution_count": null,
   "metadata": {},
   "outputs": [],
   "source": [
    "#Define variables\n",
    "south_latitude = s_lats[\"Latitude\"]\n",
    "south_cloudiness = s_lats[\"Cloudiness\"]\n",
    "\n",
    "#linear regression/slope-intercept \n",
    "s_lat_slope, s_lat_int, s_lat_r, s_lat_p, s_lat_std_err = st.linregress(south_latitude, south_cloudiness)\n",
    "\n",
    "s_lat_fit = s_lat_slope * south_latitude + s_lat_int\n",
    "\n",
    "#y=mx+b equation\n",
    "s_lat_equation = \"y=\" + str(round(s_lat_slope, 2)) + \"x+\" + str(round(s_lat_int, 2))\n",
    "\n",
    "#plot figure\n",
    "plt.figure(figsize = (20,10))\n",
    "plt.scatter(south_latitude, south_cloudiness)\n",
    "\n",
    "#Plot linear regression\n",
    "plt.plot(south_latitude, s_lat_fit, \"--\", color=\"red\")\n",
    "\n",
    "#Add y=mx+b to chart\n",
    "plt.annotate(s_lat_equation, (-42,55), color=\"red\", fontsize = 15)\n",
    "\n",
    "#Assign labels and save as png file\n",
    "plt.title(f\"Southern Hemisphere Cloudiness vs Latitude (%s)\" % time.strftime(\"%x\"), fontsize = 20, )\n",
    "plt.xlabel(\"Latitude\", fontsize = 15)\n",
    "plt.ylabel(\"Cloudiness (%)\", fontsize = 15)\n",
    "\n",
    "#designate r-value\n",
    "print(f\"r-value: {s_lat_r}\")\n",
    "      \n",
    "plt.savefig(\"../Images/South_Hem_Cloud_vs_Lat_Plot.png\")\n",
    "plt.show()"
   ]
  },
  {
   "cell_type": "markdown",
   "metadata": {},
   "source": [
    "This code is visualizing the relationship between percent cloudiness of 600+ random cities around the globe and their associated latitude coordinates in the southern hemisphere. This scatter plot indicates that there is a minimal positive relationship between humidity levels and latitude coordinates, as some locations closer to the equator have lower cloudiness percentage and some locations further from the equator experience higher cloudiness percentages. Given that there is a wide array of city points beyond the best fit line of this linear regression, there may not be any definitive conclusions to be made on the association of latitude and cloudiness."
   ]
  },
  {
   "cell_type": "markdown",
   "metadata": {},
   "source": [
    "####  Northern Hemisphere - Wind Speed (mph) vs. Latitude Linear Regression"
   ]
  },
  {
   "cell_type": "code",
   "execution_count": null,
   "metadata": {},
   "outputs": [],
   "source": [
    "#Define variables\n",
    "north_latitude = n_lats[\"Latitude\"]\n",
    "north_wind_speed = n_lats[\"Wind Speed\"]\n",
    "\n",
    "#linear regression/slope intercept\n",
    "n_lat_slope, n_lat_int, n_lat_r, n_lat_p, n_lat_std_err = st.linregress(north_latitude, north_wind_speed)\n",
    "\n",
    "n_lat_fit = n_lat_slope * north_latitude + n_lat_int\n",
    "\n",
    "#y=mx+b equation\n",
    "n_lat_equation = \"y=\" + str(round(n_lat_slope, 2)) + \"x+\" + str(round(n_lat_int, 2))\n",
    "\n",
    "#plot figure\n",
    "plt.figure(figsize = (15,10))\n",
    "plt.scatter(north_latitude, north_wind_speed)\n",
    "\n",
    "#Plot linear regression\n",
    "plt.plot(north_latitude, n_lat_fit, \"--\", color=\"red\")\n",
    "\n",
    "#Add y=mx+b to chart\n",
    "plt.annotate(n_lat_equation, (35,25), color=\"red\", fontsize = 15)\n",
    "\n",
    "#Assign labels and save as png file\n",
    "plt.title(f\"Northern Hemisphere Wind Speed vs Latitude (%s)\" % time.strftime(\"%x\"), fontsize = 20)\n",
    "plt.xlabel(\"Latitude\", fontsize = 15)\n",
    "plt.ylabel(\"Wind Speed (mph)\", fontsize = 15)\n",
    "\n",
    "#designate r-value\n",
    "print(f\"r-value: {n_lat_r}\")\n",
    "      \n",
    "plt.savefig(\"../Images/North_Hem_Wind_vs_Lat_Plot.png\")\n",
    "plt.show()\n"
   ]
  },
  {
   "cell_type": "markdown",
   "metadata": {},
   "source": [
    "This code is visualizing the relationship between wind speed (mph) of 600+ random cities around the globe and their associated latitude coordinates in the northern hemisphere. This scatter plot indicates that there is a minimal positive relationship between humidity levels and latitude coordinates, as some locations closer to the equator have lower wind speeds and some locations further from the equator experience higher wind speeds. Given that the slope of the best fit line is as low as 0.04, it is indicative of a weaker association between latitude coordinates and average wind speeds."
   ]
  },
  {
   "cell_type": "markdown",
   "metadata": {},
   "source": [
    "####  Southern Hemisphere - Wind Speed (mph) vs. Latitude Linear Regression"
   ]
  },
  {
   "cell_type": "code",
   "execution_count": null,
   "metadata": {},
   "outputs": [],
   "source": [
    "#Define variables\n",
    "south_latitude = s_lats[\"Latitude\"]\n",
    "south_wind_speed = s_lats[\"Wind Speed\"]\n",
    "\n",
    "#linear regression/slope-intercept \n",
    "s_lat_slope, s_lat_int, s_lat_r, s_lat_p, s_lat_std_err = st.linregress(south_latitude, south_wind_speed)\n",
    "\n",
    "s_lat_fit = s_lat_slope * south_latitude + s_lat_int\n",
    "\n",
    "#y=mx+b equation\n",
    "s_lat_equation = \"y=\" + str(round(s_lat_slope, 2)) + \"x+\" + str(round(s_lat_int, 2))\n",
    "\n",
    "#plot figure\n",
    "plt.figure(figsize = (20,10))\n",
    "plt.scatter(south_latitude, south_wind_speed)\n",
    "\n",
    "#Plot linear regression\n",
    "plt.plot(south_latitude, s_lat_fit, \"--\", color=\"red\")\n",
    "\n",
    "#Add y=mx+b to chart\n",
    "plt.annotate(s_lat_equation, (-50,12), color=\"red\", fontsize = 15)\n",
    "\n",
    "#Assign labels and save as png file\n",
    "plt.title(f\"Southern Hemisphere Wind Speed vs Latitude (%s)\" % time.strftime(\"%x\"), fontsize = 20, )\n",
    "plt.xlabel(\"Latitude\", fontsize = 15)\n",
    "plt.ylabel(\"Wind Speed (mph)\", fontsize = 15)\n",
    "\n",
    "#designate r-value\n",
    "print(f\"r-value: {s_lat_r}\")\n",
    "      \n",
    "plt.savefig(\"../Images/South_Wind_vs_Lat_Plot.png\")\n",
    "plt.show()"
   ]
  },
  {
   "cell_type": "markdown",
   "metadata": {},
   "source": [
    "This code is visualizing the relationship between wind speeds of 600+ random cities around the globe and their associated latitude coordinates in the northern hemisphere. This scatter plot indicates that there is a minimal negative relationship between average wind speeds and latitude coordinates, as some locations closer to the equator have lower wind speeds and some locations further from the equator experience higher wind speeds. Given that there is a wide array of city points beyond the best fit line of this linear regression, and that the slope is as minimal as 0.06, there may not be any definitive conclusions to be made on the association of latitude and average wind speeds."
   ]
  }
 ],
 "metadata": {
  "anaconda-cloud": {},
  "kernel_info": {
   "name": "python3"
  },
  "kernelspec": {
   "display_name": "Python 3",
   "language": "python",
   "name": "python3"
  },
  "language_info": {
   "codemirror_mode": {
    "name": "ipython",
    "version": 3
   },
   "file_extension": ".py",
   "mimetype": "text/x-python",
   "name": "python",
   "nbconvert_exporter": "python",
   "pygments_lexer": "ipython3",
   "version": "3.6.10"
  },
  "latex_envs": {
   "LaTeX_envs_menu_present": true,
   "autoclose": false,
   "autocomplete": true,
   "bibliofile": "biblio.bib",
   "cite_by": "apalike",
   "current_citInitial": 1,
   "eqLabelWithNumbers": true,
   "eqNumInitial": 1,
   "hotkeys": {
    "equation": "Ctrl-E",
    "itemize": "Ctrl-I"
   },
   "labels_anchors": false,
   "latex_user_defs": false,
   "report_style_numbering": false,
   "user_envs_cfg": false
  },
  "nteract": {
   "version": "0.12.3"
  }
 },
 "nbformat": 4,
 "nbformat_minor": 2
}
